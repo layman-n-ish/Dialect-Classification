{
 "cells": [
  {
   "cell_type": "code",
   "execution_count": 6,
   "metadata": {},
   "outputs": [
    {
     "name": "stdout",
     "output_type": "stream",
     "text": [
      "['../Read_Up/IDR1', '../Read_Up/IDR2', '../Read_Up/IDR3', '../Read_Up/IDR4', '../Read_Up/IDR5', '../Read_Up/IDR6', '../Read_Up/IDR7', '../Read_Up/IDR8', '../Read_Up/IDR9']\n"
     ]
    }
   ],
   "source": [
    "import os\n",
    "import glob\n",
    "\n",
    "data_folder = glob.glob(\"../Read_Up/*\")\n",
    "print(data_folder)\n",
    "\n",
    "for session in data_folder:\n",
    "    for aud_file in glob.glob(\"%s/[0-9].*\"%session):\n",
    "        os.rename(aud_file, aud_file[:-5]+'0'+aud_file[-5:])\n",
    "        print(aud_file[-6:])"
   ]
  },
  {
   "cell_type": "code",
   "execution_count": null,
   "metadata": {},
   "outputs": [],
   "source": []
  }
 ],
 "metadata": {
  "kernelspec": {
   "display_name": "Python 3",
   "language": "python",
   "name": "python3"
  },
  "language_info": {
   "codemirror_mode": {
    "name": "ipython",
    "version": 3
   },
   "file_extension": ".py",
   "mimetype": "text/x-python",
   "name": "python",
   "nbconvert_exporter": "python",
   "pygments_lexer": "ipython3",
   "version": "3.5.2"
  }
 },
 "nbformat": 4,
 "nbformat_minor": 2
}
